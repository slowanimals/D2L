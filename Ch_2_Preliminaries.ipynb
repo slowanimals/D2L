{
  "nbformat": 4,
  "nbformat_minor": 0,
  "metadata": {
    "colab": {
      "provenance": [],
      "collapsed_sections": [
        "c_l1Sv4MgtVv",
        "TqB9JPpbiLJ1",
        "us6GGSCPkPJX"
      ],
      "authorship_tag": "ABX9TyOtwxrRNjtkH64FogDln7ue",
      "include_colab_link": true
    },
    "kernelspec": {
      "name": "python3",
      "display_name": "Python 3"
    },
    "language_info": {
      "name": "python"
    }
  },
  "cells": [
    {
      "cell_type": "markdown",
      "metadata": {
        "id": "view-in-github",
        "colab_type": "text"
      },
      "source": [
        "<a href=\"https://colab.research.google.com/github/slowanimals/D2L/blob/main/Ch_2_Preliminaries.ipynb\" target=\"_parent\"><img src=\"https://colab.research.google.com/assets/colab-badge.svg\" alt=\"Open In Colab\"/></a>"
      ]
    },
    {
      "cell_type": "code",
      "execution_count": 57,
      "metadata": {
        "id": "R4s8RtYzk572",
        "collapsed": true
      },
      "outputs": [],
      "source": [
        "!pip install torch==2.0.0 torchvision==0.15.1 > /dev/null 2>&1\n",
        "!pip install d2l==1.0.3 > /dev/null 2>&1"
      ]
    },
    {
      "cell_type": "code",
      "source": [
        "import torch"
      ],
      "metadata": {
        "id": "Tm5ARdixP_YW"
      },
      "execution_count": 3,
      "outputs": []
    },
    {
      "cell_type": "markdown",
      "source": [
        "## **Populating Tensors**"
      ],
      "metadata": {
        "id": "c_l1Sv4MgtVv"
      }
    },
    {
      "cell_type": "code",
      "source": [
        "x = torch.arange(12,dtype=torch.float32)\n",
        "x"
      ],
      "metadata": {
        "colab": {
          "base_uri": "https://localhost:8080/"
        },
        "id": "lZK9HU-pgpmJ",
        "outputId": "b380d284-00d5-4947-c828-3a79ad7be3d0"
      },
      "execution_count": 28,
      "outputs": [
        {
          "output_type": "execute_result",
          "data": {
            "text/plain": [
              "tensor([ 0.,  1.,  2.,  3.,  4.,  5.,  6.,  7.,  8.,  9., 10., 11.])"
            ]
          },
          "metadata": {},
          "execution_count": 28
        }
      ]
    },
    {
      "cell_type": "code",
      "source": [
        "z = torch.zeros(12)\n",
        "z"
      ],
      "metadata": {
        "colab": {
          "base_uri": "https://localhost:8080/"
        },
        "id": "AaPU3WBThJ_D",
        "outputId": "feaa99de-3d33-4220-fc26-1758e4c50a19"
      },
      "execution_count": 32,
      "outputs": [
        {
          "output_type": "execute_result",
          "data": {
            "text/plain": [
              "tensor([0., 0., 0., 0., 0., 0., 0., 0., 0., 0., 0., 0.])"
            ]
          },
          "metadata": {},
          "execution_count": 32
        }
      ]
    },
    {
      "cell_type": "code",
      "source": [
        "o = torch.ones(12)\n",
        "o"
      ],
      "metadata": {
        "colab": {
          "base_uri": "https://localhost:8080/"
        },
        "id": "_Nmck2E1is-Z",
        "outputId": "ff09cfbe-a959-4ddf-ca0f-ee518edbd30a"
      },
      "execution_count": 31,
      "outputs": [
        {
          "output_type": "execute_result",
          "data": {
            "text/plain": [
              "tensor([1., 1., 1., 1., 1., 1., 1., 1., 1., 1., 1., 1.])"
            ]
          },
          "metadata": {},
          "execution_count": 31
        }
      ]
    },
    {
      "cell_type": "code",
      "source": [
        "r = torch.randn(3,4)\n",
        "r"
      ],
      "metadata": {
        "colab": {
          "base_uri": "https://localhost:8080/"
        },
        "id": "MhHss9Wdhk1v",
        "outputId": "f3530a10-c284-4611-d1b1-9b3d063625f8"
      },
      "execution_count": 24,
      "outputs": [
        {
          "output_type": "stream",
          "name": "stdout",
          "text": [
            "torch.randn: tensor([[ 0.9728, -0.0931, -0.4151,  1.1767],\n",
            "        [-0.2778, -0.1625,  0.1738,  0.0196],\n",
            "        [ 2.4929, -0.5078, -1.0611, -0.1952]])\n"
          ]
        }
      ]
    },
    {
      "cell_type": "code",
      "source": [
        "t = torch.tensor([[2, 1, 4, 3],\n",
        "                  [3, 2, 1, 5],\n",
        "                  [6, 7, 8, 9]])\n",
        "t"
      ],
      "metadata": {
        "colab": {
          "base_uri": "https://localhost:8080/"
        },
        "id": "qkBtHE4mh0NT",
        "outputId": "f5eb73ea-c088-46c1-cf33-14f05ea13a34"
      },
      "execution_count": 33,
      "outputs": [
        {
          "output_type": "execute_result",
          "data": {
            "text/plain": [
              "tensor([[2, 1, 4, 3],\n",
              "        [3, 2, 1, 5],\n",
              "        [6, 7, 8, 9]])"
            ]
          },
          "metadata": {},
          "execution_count": 33
        }
      ]
    },
    {
      "cell_type": "markdown",
      "source": [
        "# **Finding Properties**\n"
      ],
      "metadata": {
        "id": "TqB9JPpbiLJ1"
      }
    },
    {
      "cell_type": "code",
      "source": [
        "print(x.numel())\n",
        "print(x.shape)\n",
        "print(x.reshape(3,4))"
      ],
      "metadata": {
        "colab": {
          "base_uri": "https://localhost:8080/"
        },
        "id": "eMhWANHziNc8",
        "outputId": "dda56c43-9045-4fe2-bbdd-49706f6e3c58"
      },
      "execution_count": 35,
      "outputs": [
        {
          "output_type": "stream",
          "name": "stdout",
          "text": [
            "12\n",
            "torch.Size([12])\n",
            "tensor([[ 0.,  1.,  2.,  3.],\n",
            "        [ 4.,  5.,  6.,  7.],\n",
            "        [ 8.,  9., 10., 11.]])\n"
          ]
        }
      ]
    },
    {
      "cell_type": "code",
      "source": [
        "k = torch.arange(12,dtype=torch.float32).reshape(3,4)\n",
        "print(k)\n",
        "k[:2,:] = 13\n",
        "print(k)"
      ],
      "metadata": {
        "colab": {
          "base_uri": "https://localhost:8080/"
        },
        "id": "WOl6Vfrki6Vz",
        "outputId": "4852d598-9921-422e-aad9-d0df9b67c33a"
      },
      "execution_count": 42,
      "outputs": [
        {
          "output_type": "stream",
          "name": "stdout",
          "text": [
            "tensor([[ 0.,  1.,  2.,  3.],\n",
            "        [ 4.,  5.,  6.,  7.],\n",
            "        [ 8.,  9., 10., 11.]])\n",
            "tensor([[13., 13., 13., 13.],\n",
            "        [13., 13., 13., 13.],\n",
            "        [ 8.,  9., 10., 11.]])\n"
          ]
        }
      ]
    },
    {
      "cell_type": "code",
      "source": [
        "x = torch.tensor([0,1,2,3])\n",
        "e = torch.exp(x)\n",
        "e"
      ],
      "metadata": {
        "colab": {
          "base_uri": "https://localhost:8080/"
        },
        "id": "kcbfkxXwjawB",
        "outputId": "483ffc9d-7ae5-40fb-c441-70405c41efbf"
      },
      "execution_count": 45,
      "outputs": [
        {
          "output_type": "execute_result",
          "data": {
            "text/plain": [
              "tensor([ 1.0000,  2.7183,  7.3891, 20.0855])"
            ]
          },
          "metadata": {},
          "execution_count": 45
        }
      ]
    },
    {
      "cell_type": "code",
      "source": [
        "y = torch.tensor([4,5,2,7])\n",
        "b = x == y\n",
        "b"
      ],
      "metadata": {
        "colab": {
          "base_uri": "https://localhost:8080/"
        },
        "id": "SV3iIYD8jsgO",
        "outputId": "7c0635d6-5531-4b8f-ae24-3925e6ada76c"
      },
      "execution_count": 47,
      "outputs": [
        {
          "output_type": "execute_result",
          "data": {
            "text/plain": [
              "tensor([False, False,  True, False])"
            ]
          },
          "metadata": {},
          "execution_count": 47
        }
      ]
    },
    {
      "cell_type": "code",
      "source": [
        "print(x + y)\n",
        "print(x * y)\n",
        "print(x.sum())"
      ],
      "metadata": {
        "colab": {
          "base_uri": "https://localhost:8080/"
        },
        "id": "hgNFeLjlkA7g",
        "outputId": "ca68e7f9-8076-4c11-a161-e345d86c6390"
      },
      "execution_count": 49,
      "outputs": [
        {
          "output_type": "stream",
          "name": "stdout",
          "text": [
            "tensor([ 4,  6,  4, 10])\n",
            "tensor([ 0,  5,  4, 21])\n",
            "tensor(6)\n"
          ]
        }
      ]
    },
    {
      "cell_type": "markdown",
      "source": [
        "# **Conversion to Other Python Objects**"
      ],
      "metadata": {
        "id": "us6GGSCPkPJX"
      }
    },
    {
      "cell_type": "code",
      "source": [
        "X = torch.arange(5, dtype=torch.int32)\n",
        "A = X.numpy() #numpy array\n",
        "B = torch.from_numpy(A) #back to torch\n",
        "B"
      ],
      "metadata": {
        "colab": {
          "base_uri": "https://localhost:8080/"
        },
        "id": "mze_fBBBkW-a",
        "outputId": "99e58585-47f0-4b05-d749-21b49b5312c7"
      },
      "execution_count": 55,
      "outputs": [
        {
          "output_type": "execute_result",
          "data": {
            "text/plain": [
              "tensor([0, 1, 2, 3, 4], dtype=torch.int32)"
            ]
          },
          "metadata": {},
          "execution_count": 55
        }
      ]
    },
    {
      "cell_type": "code",
      "source": [
        "a = torch.tensor([3.5])\n",
        "a, a.item(), float(a), int(a)"
      ],
      "metadata": {
        "colab": {
          "base_uri": "https://localhost:8080/"
        },
        "id": "inC-YNrYk08m",
        "outputId": "a49aecd5-f502-4dd5-80e5-e0240b8a9afa"
      },
      "execution_count": 56,
      "outputs": [
        {
          "output_type": "execute_result",
          "data": {
            "text/plain": [
              "(tensor([3.5000]), 3.5, 3.5, 3)"
            ]
          },
          "metadata": {},
          "execution_count": 56
        }
      ]
    }
  ]
}